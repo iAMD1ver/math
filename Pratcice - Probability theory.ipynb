{
 "cells": [
  {
   "cell_type": "markdown",
   "metadata": {},
   "source": [
    "**Задания видеоурока**"
   ]
  },
  {
   "cell_type": "markdown",
   "metadata": {},
   "source": [
    "**Задание 1**"
   ]
  },
  {
   "cell_type": "markdown",
   "metadata": {},
   "source": [
    "Напишите код, моделирующий выпадение поля в рулетке (с учетом поля зеро)."
   ]
  },
  {
   "cell_type": "code",
   "execution_count": 3,
   "metadata": {},
   "outputs": [],
   "source": [
    "import numpy as np"
   ]
  },
  {
   "cell_type": "code",
   "execution_count": 6,
   "metadata": {},
   "outputs": [
    {
     "name": "stdout",
     "output_type": "stream",
     "text": [
      "Введите количество раз запуска рулетки: 2\n",
      "Выпало: 20\n",
      "Выпало: 18\n"
     ]
    }
   ],
   "source": [
    "a = input('Введите количество раз запуска рулетки: ')\n",
    "for i in range(int(a)):\n",
    "    x = np.random.uniform(0, 37)\n",
    "    print(\"Выпало: {}\".format(int(x)))    "
   ]
  },
  {
   "cell_type": "markdown",
   "metadata": {},
   "source": [
    "**Задание 2**"
   ]
  },
  {
   "cell_type": "markdown",
   "metadata": {},
   "source": [
    "*Напишите код, проверяющий любую из теорем сложения или умножения вероятности на примере рулетки или подбрасывания монетки.*"
   ]
  },
  {
   "cell_type": "code",
   "execution_count": 16,
   "metadata": {},
   "outputs": [
    {
     "name": "stdout",
     "output_type": "stream",
     "text": [
      "Вероятность выпадения 36 на 1-ой рулетке: 0.02766\n",
      "Вероятность выпадения 36 на 2-ой рулетке: 0.02638\n",
      "Вероятность выпадения 36 на обеих рулетках: 0.00061\n",
      "Вероятность выпадения 36 на одной рулеток: 0.05343\n"
     ]
    }
   ],
   "source": [
    "# Вычислим вероятность выпадения 36: 1) на обеих рулетках 2) ни на одной из рулеток 3) хотя бы одно выпадение\n",
    "\n",
    "k, m, a, b = 0, 0, 0, 0\n",
    "n = 100000\n",
    "for i in range(0, n):\n",
    "    x = int(np.random.uniform(0, 37)) # рулетка 1\n",
    "    #print(\"Выпало 1: {}\".format(int(x)))\n",
    "    \n",
    "    y = int(np.random.uniform(0, 37)) # рулетка 2\n",
    "    #print(\"Выпало 2: {}\".format(int(y)))\n",
    "    \n",
    "    if x == 36: \n",
    "        k = k + 1 # рулетка 1\n",
    "        #print(k)\n",
    "    if y == 36: \n",
    "        m = m + 1 # рулетка 2\n",
    "        #print(m)\n",
    "        \n",
    "    if x == 36 and y == 36: \n",
    "        a = a + 1\n",
    "        #print(\"На обеих рулетках: {}\".format(int(a)))\n",
    "    if x == 36 or y == 36:\n",
    "        b = b + 1\n",
    "        #print(\"Хотя бы одно выпадение: {}\".format(int(b)))\n",
    "    \n",
    "print(\"Вероятность выпадения 36 на 1-ой рулетке: {}\".format(k/n))\n",
    "print(\"Вероятность выпадения 36 на 2-ой рулетке: {}\".format(m/n))\n",
    "print(\"Вероятность выпадения 36 на обеих рулетках: {}\".format(a/n))\n",
    "print(\"Вероятность выпадения 36 на одной рулеток: {}\".format(b/n))"
   ]
  },
  {
   "cell_type": "code",
   "execution_count": 17,
   "metadata": {},
   "outputs": [
    {
     "data": {
      "text/plain": [
       "0.054040000000000005"
      ]
     },
     "execution_count": 17,
     "metadata": {},
     "output_type": "execute_result"
    }
   ],
   "source": [
    "a =  0.02638+0.02766\n",
    "a"
   ]
  },
  {
   "cell_type": "markdown",
   "metadata": {},
   "source": [
    "*Сгенерируйте десять выборок случайных чисел х0, …, х9.\n",
    "и постройте гистограмму распределения случайной суммы х0+х1+ …+ х9.*"
   ]
  },
  {
   "cell_type": "code",
   "execution_count": 19,
   "metadata": {},
   "outputs": [],
   "source": [
    "import matplotlib.pyplot as pl\n",
    "%matplotlib inline"
   ]
  },
  {
   "cell_type": "code",
   "execution_count": 24,
   "metadata": {},
   "outputs": [
    {
     "data": {
      "image/png": "[encoded data removed]",
      "text/plain": [
       "<Figure size 432x288 with 1 Axes>"
      ]
     },
     "metadata": {
      "needs_background": "light"
     },
     "output_type": "display_data"
    }
   ],
   "source": [
    "n = 10000\n",
    "\n",
    "x0 = np.random.rand(n)\n",
    "x1 = np.random.rand(n)\n",
    "x2 = np.random.rand(n)\n",
    "x3 = np.random.rand(n)\n",
    "x4 = np.random.rand(n)\n",
    "x5 = np.random.rand(n)\n",
    "x6 = np.random.rand(n)\n",
    "x7 = np.random.rand(n)\n",
    "x8 = np.random.rand(n)\n",
    "x9 = np.random.rand(n)\n",
    "\n",
    "x = x0 + x1 + x2 + x3 + x4 + x5 + x6 + x7 + x8 + x9\n",
    "\n",
    "nbin = 100\n",
    "n, bins, patches = pl.hist(x, nbin)\n"
   ]
  },
  {
   "cell_type": "markdown",
   "metadata": {},
   "source": [
    "**Задание 3**"
   ]
  },
  {
   "cell_type": "markdown",
   "metadata": {},
   "source": [
    "*Дополните код Монте-Карло последовательности независимых испытаний расчетом соответствующих вероятностей (через биномиальное распределение) и сравните результаты.*"
   ]
  },
  {
   "cell_type": "code",
   "execution_count": 55,
   "metadata": {},
   "outputs": [
    {
     "name": "stdout",
     "output_type": "stream",
     "text": [
      "3693 10000 0.3693\n"
     ]
    }
   ],
   "source": [
    "k, n = 0, 10000\n",
    "a = np.random.randint(0, 2, n)\n",
    "b = np.random.randint(0, 2, n)\n",
    "c = np.random.randint(0, 2, n)\n",
    "d = np.random.randint(0, 2, n)\n",
    "x = a + b + c + d\n",
    "for i in range(0, n):\n",
    "    if x[i] == 2:\n",
    "        k = k + 1\n",
    "#print(a, b, c, d)\n",
    "#print(x)\n",
    "print (k, n, k/n)"
   ]
  },
  {
   "cell_type": "code",
   "execution_count": 54,
   "metadata": {},
   "outputs": [
    {
     "name": "stdout",
     "output_type": "stream",
     "text": [
      "6.0 0.375\n"
     ]
    }
   ],
   "source": [
    "import math\n",
    "\n",
    "n, k = 4, 2\n",
    "p = 0.5\n",
    "\n",
    "q = 1 - p\n",
    "C = math.factorial(n) / (math.factorial(k) * math.factorial(n - k))\n",
    "Pn = C * (p ** k) * (q ** (n - k))\n",
    "\n",
    "print (C, Pn) "
   ]
  },
  {
   "cell_type": "markdown",
   "metadata": {},
   "source": [
    "*Повторите расчеты биномиальных коэффициентов и вероятностей k успехов в последовательности из n независимых испытаний, взяв другие значения n и k.*"
   ]
  },
  {
   "cell_type": "code",
   "execution_count": 59,
   "metadata": {},
   "outputs": [
    {
     "name": "stdout",
     "output_type": "stream",
     "text": [
      "6.0 0.09375\n"
     ]
    }
   ],
   "source": [
    "n, k = 6, 5\n",
    "p = 0.5\n",
    "\n",
    "q = 1 - p\n",
    "C = math.factorial(n) / (math.factorial(k) * math.factorial(n - k))\n",
    "Pn = C * (p ** k) * (q ** (n - k))\n",
    "\n",
    "print (C, Pn) "
   ]
  },
  {
   "cell_type": "markdown",
   "metadata": {},
   "source": [
    "**Задание 4**\n",
    "\n",
    "*Из урока по комбинаторике повторите расчеты, сгенерировав возможные варианты перестановок для других значений n и k*"
   ]
  },
  {
   "cell_type": "code",
   "execution_count": 61,
   "metadata": {},
   "outputs": [
    {
     "name": "stdout",
     "output_type": "stream",
     "text": [
      "01\n",
      "02\n",
      "10\n",
      "12\n",
      "20\n",
      "21\n"
     ]
    }
   ],
   "source": [
    "import itertools\n",
    "\n",
    "for p in itertools.permutations(\"012\",2):\n",
    "    print(''.join(str(x) for x in p))"
   ]
  },
  {
   "cell_type": "code",
   "execution_count": 62,
   "metadata": {},
   "outputs": [
    {
     "name": "stdout",
     "output_type": "stream",
     "text": [
      "01\n",
      "02\n",
      "12\n"
     ]
    }
   ],
   "source": [
    "for p in itertools.combinations(\"012\",2):\n",
    "    print(''.join(p))"
   ]
  },
  {
   "cell_type": "markdown",
   "metadata": {},
   "source": [
    "**Задание 5**\n",
    "\n",
    "*Дополните код расчетом коэффициента корреляции x и y по формуле*"
   ]
  },
  {
   "cell_type": "code",
   "execution_count": 65,
   "metadata": {},
   "outputs": [
    {
     "name": "stdout",
     "output_type": "stream",
     "text": [
      "0.7434858546352173 0.1326206874481234\n",
      "0.743485854635218 0.13262068744812308\n"
     ]
    },
    {
     "name": "stderr",
     "output_type": "stream",
     "text": [
      "C:\\Users\\iamdi\\Anaconda3\\lib\\site-packages\\ipykernel_launcher.py:15: FutureWarning: `rcond` parameter will change to the default of machine precision times ``max(M, N)`` where M and N are the input matrix dimensions.\n",
      "To use the future default and silence this warning we advise to pass `rcond=None`, to keep using the old, explicitly pass `rcond=-1`.\n",
      "  from ipykernel import kernelapp as app\n"
     ]
    },
    {
     "data": {
      "image/png": "[encoded data removed]",
      "text/plain": [
       "<Figure size 432x288 with 1 Axes>"
      ]
     },
     "metadata": {
      "needs_background": "light"
     },
     "output_type": "display_data"
    }
   ],
   "source": [
    "n = 100\n",
    "r = 0.7\n",
    "x = np.random.rand(n)\n",
    "\n",
    "y = r*x + (1 - r)*np.random.rand(n)\n",
    "pl.plot(x, y, 'o')\n",
    "pl.xlabel('x')\n",
    "pl.ylabel('y')\n",
    "pl.grid(True)\n",
    "\n",
    "a = (np.sum(x)*np.sum(y) - n*np.sum(x*y))/(np.sum(x)*np.sum(x) - n*np.sum(x*x))\n",
    "b = (np.sum(y) - a*np.sum(x))/n\n",
    "\n",
    "A = np.vstack([x, np.ones(len(x))]).T\n",
    "a1, b1 = np.linalg.lstsq(A, y)[0]\n",
    "print(a, b)\n",
    "print(a1, b1)\n",
    "pl.plot([0, 1], [b, a + b])\n",
    "pl.show()"
   ]
  },
  {
   "cell_type": "code",
   "execution_count": 68,
   "metadata": {},
   "outputs": [
    {
     "name": "stdout",
     "output_type": "stream",
     "text": [
      "0.9267243664305472\n"
     ]
    }
   ],
   "source": [
    "xd = np.sum(x)/n\n",
    "yd = np.sum(y)/n\n",
    "\n",
    "x0 = x - xm\n",
    "y0 = y - ym\n",
    "\n",
    "corr = np.sum(x0 * y0) / math.sqrt(np.sum(x0 * x0) * np.sum(y0 * y0))\n",
    "\n",
    "print (corr)"
   ]
  },
  {
   "cell_type": "code",
   "execution_count": null,
   "metadata": {},
   "outputs": [],
   "source": []
  }
 ],
 "metadata": {
  "kernelspec": {
   "display_name": "Python 3",
   "language": "python",
   "name": "python3"
  },
  "language_info": {
   "codemirror_mode": {
    "name": "ipython",
    "version": 3
   },
   "file_extension": ".py",
   "mimetype": "text/x-python",
   "name": "python",
   "nbconvert_exporter": "python",
   "pygments_lexer": "ipython3",
   "version": "3.7.1"
  }
 },
 "nbformat": 4,
 "nbformat_minor": 2
}
