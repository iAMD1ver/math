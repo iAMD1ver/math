{
 "cells": [
  {
   "cell_type": "code",
   "execution_count": 3,
   "metadata": {},
   "outputs": [
    {
     "name": "stdout",
     "output_type": "stream",
     "text": [
      "Введите размерность пространства в котором задан вектор: 2\n",
      "Введите координату #1: 10\n",
      "Введите координату #2: 10\n",
      "Длина вектора: 14.142135623730951\n"
     ]
    }
   ],
   "source": [
    "import math\n",
    "\n",
    "vec_coordinates = int(input('Введите размерность пространства в котором задан вектор: '))\n",
    "\n",
    "coor_sum = 0\n",
    "for coordinates in range(vec_coordinates):\n",
    "    vec = abs((int(input('Введите координату #{}: '.format(coordinates+1)))))**2\n",
    "    coor_sum += vec\n",
    "\n",
    "print ('Длина вектора: {}'.format(math.sqrt(coor_sum)))"
   ]
  },
  {
   "cell_type": "code",
   "execution_count": null,
   "metadata": {},
   "outputs": [],
   "source": []
  }
 ],
 "metadata": {
  "kernelspec": {
   "display_name": "Python 3",
   "language": "python",
   "name": "python3"
  },
  "language_info": {
   "codemirror_mode": {
    "name": "ipython",
    "version": 3
   },
   "file_extension": ".py",
   "mimetype": "text/x-python",
   "name": "python",
   "nbconvert_exporter": "python",
   "pygments_lexer": "ipython3",
   "version": "3.7.1"
  }
 },
 "nbformat": 4,
 "nbformat_minor": 2
}
